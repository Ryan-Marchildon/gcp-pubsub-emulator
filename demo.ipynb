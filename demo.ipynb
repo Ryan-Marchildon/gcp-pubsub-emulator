{
 "cells": [
  {
   "cell_type": "code",
   "execution_count": 1,
   "metadata": {},
   "outputs": [],
   "source": [
    "import os\n",
    "\n",
    "os.environ[\"PUBSUB_PROJECT_ID\"] = \"my-project\"\n",
    "os.environ[\"PUBSUB_EMULATOR_HOST\"] = \"localhost:8080\"\n",
    "\n",
    "from pubsub_demo.utils.pubsub import GooglePubsubClient\n",
    "\n",
    "pubsub = GooglePubsubClient(project_id=\"my-project\")\n"
   ]
  }
 ],
 "metadata": {
  "kernelspec": {
   "display_name": "pubsub-demo",
   "language": "python",
   "name": "python3"
  },
  "language_info": {
   "codemirror_mode": {
    "name": "ipython",
    "version": 3
   },
   "file_extension": ".py",
   "mimetype": "text/x-python",
   "name": "python",
   "nbconvert_exporter": "python",
   "pygments_lexer": "ipython3",
   "version": "3.8.16"
  },
  "orig_nbformat": 4
 },
 "nbformat": 4,
 "nbformat_minor": 2
}
