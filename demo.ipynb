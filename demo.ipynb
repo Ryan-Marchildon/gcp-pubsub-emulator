{
 "cells": [
  {
   "attachments": {},
   "cell_type": "markdown",
   "metadata": {},
   "source": [
    "# Pubsub Demo\n",
    "\n",
    "\"Asynchronous Stampers\""
   ]
  },
  {
   "cell_type": "code",
   "execution_count": null,
   "metadata": {},
   "outputs": [],
   "source": [
    "import pandas as pd\n",
    "\n",
    "from pubsub_demo.client import StampsApi\n",
    "\n",
    "api = StampsApi()\n",
    "\n",
    "columns = [\"entry_id\", \"request_id\", \"series_num\", \"request_type\", \"stamps\", \"runtime_ms\"]\n"
   ]
  },
  {
   "cell_type": "code",
   "execution_count": null,
   "metadata": {},
   "outputs": [],
   "source": [
    "# let's start with a clean DB\n",
    "api.delete_stamps()"
   ]
  },
  {
   "attachments": {},
   "cell_type": "markdown",
   "metadata": {},
   "source": [
    "### Short Path\n",
    "Messages dispatched by service \"A\" need to be stamped by service \"B\" only, before final collection by service \"A\"."
   ]
  },
  {
   "cell_type": "code",
   "execution_count": null,
   "metadata": {},
   "outputs": [],
   "source": [
    "# Issue a request for stamps\n",
    "request_id = api.create_stamps(type=\"short\", num=1000)\n",
    "request_id "
   ]
  },
  {
   "cell_type": "code",
   "execution_count": null,
   "metadata": {},
   "outputs": [],
   "source": [
    "# Fetch the results\n",
    "results = api.retrieve_stamps(id=request_id)\n",
    "df = pd.DataFrame(results, columns=columns)\n",
    "df.sort_values(by=[\"request_id\", \"series_num\"]).head(10)"
   ]
  },
  {
   "cell_type": "code",
   "execution_count": null,
   "metadata": {},
   "outputs": [],
   "source": [
    "# Length should match what we requestd\n",
    "# (NOTE: error handling must still be added to prevent the occasional lost message)\n",
    "len(df)"
   ]
  },
  {
   "cell_type": "code",
   "execution_count": null,
   "metadata": {},
   "outputs": [],
   "source": [
    "# How long did it take on average?\n",
    "df[\"runtime_ms\"].mean()"
   ]
  },
  {
   "cell_type": "code",
   "execution_count": null,
   "metadata": {},
   "outputs": [],
   "source": [
    "# Load balancing ratio\n",
    "num_b1 = len(df[df[\"stamps\"]==\"B1\"])\n",
    "num_b2 = len(df[df[\"stamps\"]==\"B2\"])\n",
    "ratio = num_b1/(num_b1 + num_b2)\n",
    "ratio"
   ]
  },
  {
   "attachments": {},
   "cell_type": "markdown",
   "metadata": {},
   "source": [
    "### Long Path\n",
    "Messages dispatched by service \"A\" need to be stamped by service \"B\" and then by service \"C\" (in that order), before final collection by service \"A\"."
   ]
  },
  {
   "cell_type": "code",
   "execution_count": null,
   "metadata": {},
   "outputs": [],
   "source": [
    "# Issue a request for stamps\n",
    "request_id = api.create_stamps(type=\"long\", num=100)\n",
    "request_id "
   ]
  },
  {
   "cell_type": "code",
   "execution_count": null,
   "metadata": {},
   "outputs": [],
   "source": [
    "# Fetch the results\n",
    "results = api.retrieve_stamps(id=request_id)\n",
    "df = pd.DataFrame(results, columns=columns)\n",
    "df.sort_values(by=[\"request_id\", \"series_num\"]).head(10)"
   ]
  },
  {
   "cell_type": "code",
   "execution_count": null,
   "metadata": {},
   "outputs": [],
   "source": [
    "# Length should match what we requestd\n",
    "len(df)"
   ]
  },
  {
   "cell_type": "code",
   "execution_count": null,
   "metadata": {},
   "outputs": [],
   "source": [
    "# How long did it take on average?\n",
    "df[\"runtime_ms\"].mean()"
   ]
  },
  {
   "cell_type": "code",
   "execution_count": null,
   "metadata": {},
   "outputs": [],
   "source": [
    "# Load balancing ratio\n",
    "num_b1 = len(df[df[\"stamps\"]==\"B1-C\"])\n",
    "num_b2 = len(df[df[\"stamps\"]==\"B2-C\"])\n",
    "ratio = num_b1/(num_b1 + num_b2)\n",
    "ratio"
   ]
  },
  {
   "cell_type": "code",
   "execution_count": null,
   "metadata": {},
   "outputs": [],
   "source": []
  }
 ],
 "metadata": {
  "kernelspec": {
   "display_name": "pubsub-demo",
   "language": "python",
   "name": "python3"
  },
  "language_info": {
   "codemirror_mode": {
    "name": "ipython",
    "version": 3
   },
   "file_extension": ".py",
   "mimetype": "text/x-python",
   "name": "python",
   "nbconvert_exporter": "python",
   "pygments_lexer": "ipython3",
   "version": "3.8.16"
  },
  "orig_nbformat": 4
 },
 "nbformat": 4,
 "nbformat_minor": 2
}
